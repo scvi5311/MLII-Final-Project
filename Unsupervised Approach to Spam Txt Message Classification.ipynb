{
 "cells": [
  {
   "cell_type": "markdown",
   "id": "320d81d9",
   "metadata": {},
   "source": [
    "# Unsupervised Approach to Spam Txt Message Classification"
   ]
  },
  {
   "cell_type": "markdown",
   "id": "e97a1ee7",
   "metadata": {},
   "source": [
    "## Introduction"
   ]
  },
  {
   "cell_type": "markdown",
   "id": "418b1fe9",
   "metadata": {},
   "source": [
    "The following report documents the training and testing of an unsupervised learning model on text data. The goal of the model is to predict spam text messages in the data set. The dataset is labeled and requires cleaning operations prior to training the model. \n",
    "\n",
    "The report will discuss the cleaning steps taken, Exploratory Data Analysis, the selection along with the pros and cons of NMF the unsupervised model. Additionally, the report discusses the choice to implement a supervised learning approach to round the model and the improvements seen. Finally, conclusion and future work is reviewed and discussed. "
   ]
  },
  {
   "cell_type": "code",
   "execution_count": 1,
   "id": "ed0d6e81",
   "metadata": {},
   "outputs": [],
   "source": [
    "import warnings\n",
    "import pandas as pd\n",
    "import numpy as np\n",
    "from collections import Counter\n",
    "import nltk\n",
    "from nltk.tokenize import word_tokenize\n",
    "from nltk.corpus import stopwords\n",
    "import re\n",
    "from nltk.stem.porter import PorterStemmer\n",
    "\n",
    "from sklearn.model_selection import train_test_split\n",
    "from sklearn.feature_extraction.text import TfidfVectorizer\n",
    "from sklearn.decomposition import NMF\n",
    "from sklearn.metrics import accuracy_score, classification_report, confusion_matrix, ConfusionMatrixDisplay\n",
    "import seaborn as sns\n",
    "from sklearn.svm import SVC\n",
    "from sklearn.pipeline import Pipeline\n",
    "from sklearn.model_selection import cross_val_score, GridSearchCV\n",
    "import matplotlib.pyplot as plt\n"
   ]
  },
  {
   "cell_type": "code",
   "execution_count": 2,
   "id": "b22981b0",
   "metadata": {},
   "outputs": [
    {
     "name": "stdout",
     "output_type": "stream",
     "text": [
      "Count of duplicates before removal: 403\n",
      "Shape of training set (train_spam): (3618, 5)\n",
      "Shape of testing set (test_spam): (1551, 5)\n"
     ]
    }
   ],
   "source": [
    "# Read the CSV file, show duplicates and then remove the duplicates\n",
    "file_path = r\"C:\\Users\\vinins2\\OneDrive - Medtronic PLC\\MSDS\\ML II\\Final Project - Spam Txt Classification\\spam.csv\"\n",
    "df = pd.read_csv(file_path, encoding='latin1')\n",
    "print(\"Count of duplicates before removal:\", df.duplicated().sum())\n",
    "df = df.drop_duplicates()\n",
    "\n",
    "# Split the data into training and testing sets and then show the shape of both\n",
    "train_spam, test_spam = train_test_split(df, test_size=0.3, random_state=95)\n",
    "print(\"Shape of training set (train_spam):\", train_spam.shape)\n",
    "print(\"Shape of testing set (test_spam):\", test_spam.shape)\n"
   ]
  },
  {
   "cell_type": "code",
   "execution_count": 3,
   "id": "b8364826",
   "metadata": {},
   "outputs": [
    {
     "name": "stdout",
     "output_type": "stream",
     "text": [
      "First few rows of the training set (train_spam):\n",
      "        v1                                                 v2  \\\n",
      "3586   ham  Our ride equally uneventful - not too many of ...   \n",
      "1618   ham  The 2 oz guy is being kinda flaky but one frie...   \n",
      "2222   ham  Great. I was getting worried about you. Just k...   \n",
      "5537  spam  Want explicit SEX in 30 secs? Ring 02073162414...   \n",
      "3239   ham  A cute thought for friendship: \\Its not necess...   \n",
      "\n",
      "                                       Unnamed: 2 Unnamed: 3 Unnamed: 4  \n",
      "3586                                          NaN        NaN        NaN  \n",
      "1618                                          NaN        NaN        NaN  \n",
      "2222                                          NaN        NaN        NaN  \n",
      "5537                                          NaN        NaN        NaN  \n",
      "3239   but watever u shared should be true\\\"....\"        NaN        NaN  \n",
      "\n",
      "First few rows of the testing set (test_spam):\n",
      "       v1                                          v2 Unnamed: 2 Unnamed: 3  \\\n",
      "3144  ham  I.ll get there tomorrow and send it to you        NaN        NaN   \n",
      "5532  ham    happened here while you were adventuring        NaN        NaN   \n",
      "3706  ham        Aight do you still want to get money        NaN        NaN   \n",
      "3097  ham    This is all just creepy and crazy to me.        NaN        NaN   \n",
      "3451  ham                    Ugh just got outta class        NaN        NaN   \n",
      "\n",
      "     Unnamed: 4  \n",
      "3144        NaN  \n",
      "5532        NaN  \n",
      "3706        NaN  \n",
      "3097        NaN  \n",
      "3451        NaN  \n"
     ]
    }
   ],
   "source": [
    "# Print the first few rows of the training/testing set\n",
    "print(\"First few rows of the training set (train_spam):\")\n",
    "print(train_spam.head())\n",
    "\n",
    "print(\"\\nFirst few rows of the testing set (test_spam):\")\n",
    "print(test_spam.head())\n"
   ]
  },
  {
   "cell_type": "code",
   "execution_count": 4,
   "id": "b7167289",
   "metadata": {},
   "outputs": [
    {
     "name": "stdout",
     "output_type": "stream",
     "text": [
      "Count of NaNs in the training set:\n",
      "v1               0\n",
      "v2               0\n",
      "Unnamed: 2    3585\n",
      "Unnamed: 3    3611\n",
      "Unnamed: 4    3614\n",
      "dtype: int64\n",
      "\n",
      "Count of NaNs in the testing set:\n",
      "v1               0\n",
      "v2               0\n",
      "Unnamed: 2    1541\n",
      "Unnamed: 3    1548\n",
      "Unnamed: 4    1550\n",
      "dtype: int64\n"
     ]
    }
   ],
   "source": [
    "# List the count of NaNs in each column for both\n",
    "print(\"Count of NaNs in the training set:\")\n",
    "print(train_spam.isnull().sum())\n",
    "\n",
    "print(\"\\nCount of NaNs in the testing set:\")\n",
    "print(test_spam.isnull().sum())"
   ]
  },
  {
   "cell_type": "markdown",
   "id": "539fcce5",
   "metadata": {},
   "source": [
    "This was confusing to me. v1 and v2 have no NAs but these unnamed columns have a lot. What I realized is that when this was read in, the function created new columns to handle the characters it did not recognize. To fix this, I look at these unique values below and then append them to the original columns so we again just have our target variable column V1 and text data in V2"
   ]
  },
  {
   "cell_type": "code",
   "execution_count": 5,
   "id": "63ca20e4",
   "metadata": {},
   "outputs": [
    {
     "name": "stdout",
     "output_type": "stream",
     "text": [
      "Unique values in the unnamed columns for the training set:\n",
      "Column 'Unnamed: 2': [nan ' but watever u shared should be true\\\\\"....\"' ' PO Box 5249'\n",
      " ' I\\'ll come up\"' 'GN'\n",
      " ' bt not his girlfrnd... G o o d n i g h t . . .@\"'\n",
      " ' don\\'t miss ur best life for anything... Gud nyt...\"' ' Gud night....\"'\n",
      " ' ENJOYIN INDIANS AT THE MO..yeP. SaLL gOoD HehE ;> hows bout u shexy? Pete Xx\\\\\"\"'\n",
      " ' the person is definitely special for u..... But if the person is so special'\n",
      " 'just been in bedbut mite go 2 thepub l8tr if uwana mt up?loads a luv Jenxxx.\\\\\"\"'\n",
      " \" I don't mind\" '.;-):-D\"'\n",
      " ' just as a shop has to give a guarantee on what they sell. B. G.\"'\n",
      " '\\\\\" not \\\\\"what i need to do.\\\\\"\"' ' we made you hold all the weed\\\\\"\"'\n",
      " ' HOPE UR OK... WILL GIVE U A BUZ WEDLUNCH. GO OUTSOMEWHERE 4 ADRINK IN TOWN..CUD GO 2WATERSHD 4 A BIT? PPL FROMWRK WILL BTHERE. LOVE PETEXXX.\\\\\"\"'\n",
      " ' \\\\\"It is d wonderful fruit that a tree gives when it is being hurt by a stone.. Good night......\"'\n",
      " 'JUST GOT PAYED2DAY & I HAVBEEN GIVEN Aå£50 PAY RISE 4MY WORK & HAVEBEEN MADE PRESCHOOLCO-ORDINATOR 2I AM FEELINGOOD LUV\\\\\"\"'\n",
      " ' but dont try to prove\\\\\" ..... Gud mrng...\"'\n",
      " ' SHE SHUDVETOLD U. DID URGRAN KNOW?NEWAY'\n",
      " ' but dont try to prove it..\\\\\" .Gud noon....\"' ' smoke hella weed\\\\\"\"'\n",
      " ' Dont Come Near My Body..!! Bcoz My Hands May Not Come 2 Wipe Ur Tears Off That Time..!Gud ni8\"'\n",
      " 'PROBPOP IN & CU SATTHEN HUNNY 4BREKKIE! LOVE JEN XXX. PSXTRA LRG PORTIONS 4 ME PLEASE \\\\\"\"'\n",
      " ' hopeSo hunny. i amnow feelin ill & ithink i may have tonsolitusaswell! damn iam layin in bedreal bored. lotsof luv me xxxx\\\\\"\"'\n",
      " ' HAD A COOL NYTHO' 'u hav2hear it!c u sn xxxx\\\\\"\"'\n",
      " 'JUST REALLYNEED 2DOCD.PLEASE DONTPLEASE DONTIGNORE MYCALLS'\n",
      " \"Well there's still a bit left if you guys want to tonight\"\n",
      " ' the toughest is acting Happy with all unspoken pain inside..\\\\\"\"'\n",
      " ' wanted to say hi. HI!!!\\\\\" Stop? Send STOP to 62468\"'\n",
      " ' But at d end my love compromised me for everything:-(\\\\\".. Gud mornin:-)\"'\n",
      " ' its a miracle to Love a person who can\\'t Love anyone except U...\\\\\" Gud nyt...\"']\n",
      "Column 'Unnamed: 3': [nan ' MK17 92H. 450Ppw 16\"' 'GE' ' why to miss them'\n",
      " 'i wil tolerat.bcs ur my someone..... But'\n",
      " ' ILLSPEAK 2 U2MORO WEN IM NOT ASLEEP...\\\\\"\"' ' TX 4 FONIN HON'\n",
      " 'U NO THECD ISV.IMPORTANT TOME 4 2MORO\\\\\"\"']\n",
      "Column 'Unnamed: 4': [nan 'GNT:-)\"' ' just Keep-in-touch\\\\\" gdeve..\"'\n",
      " ' Never comfort me with a lie\\\\\" gud ni8 and sweet dreams\"'\n",
      " ' CALL 2MWEN IM BK FRMCLOUD 9! J X\\\\\"\"']\n",
      "\n",
      "Unique values in the unnamed columns for the testing set:\n",
      "Column 'Unnamed: 2': [nan\n",
      " ' justthought iåÕd sayhey! how u doin?nearly the endof me wk offdam nevamind!We will have 2Hook up sn if uwant m8? loveJen x.\\\\\"\"'\n",
      " 'this wont even start........ Datz confidence..\"'\n",
      " ' b\\'coz nobody will fight for u. Only u &amp; u have to fight for ur self &amp; win the battle. -VIVEKANAND- G 9t.. SD..\"'\n",
      " ' GOD said' ' HOWU DOIN? FOUNDURSELF A JOBYET SAUSAGE?LOVE JEN XXX\\\\\"\"'\n",
      " ' always give response 2 who cares 4 U\\\\\"... Gud night..swt dreams..take care\"'\n",
      " ' like you are the KING\\\\\"...! OR \\\\\"Walk like you Dont care'\n",
      " 'DEVIOUSBITCH.ANYWAY'\n",
      " ' that\\'s the tiny street where the parking lot is\"'\n",
      " ' PO Box 1146 MK45 2WT (2/3)\"']\n",
      "Column 'Unnamed: 3': [nan ' \\\\\"OH No! COMPETITION\\\\\". Who knew'\n",
      " 'whoever is the KING\\\\\"!... Gud nyt\"' 'IåÕL CALL U\\\\\"\"']\n",
      "Column 'Unnamed: 4': [nan ' one day these two will become FREINDS FOREVER!\"']\n"
     ]
    }
   ],
   "source": [
    "# Get the unique values in the unnamed columns for both\n",
    "print(\"Unique values in the unnamed columns for the training set:\")\n",
    "for col in train_spam.columns[2:]:\n",
    "    unique_values = train_spam[col].unique()\n",
    "    print(f\"Column '{col}': {unique_values}\")\n",
    "\n",
    "print(\"\\nUnique values in the unnamed columns for the testing set:\")\n",
    "for col in test_spam.columns[2:]:\n",
    "    unique_values = test_spam[col].unique()\n",
    "    print(f\"Column '{col}': {unique_values}\")"
   ]
  },
  {
   "cell_type": "code",
   "execution_count": 6,
   "id": "4be36413",
   "metadata": {
    "scrolled": false
   },
   "outputs": [
    {
     "name": "stderr",
     "output_type": "stream",
     "text": [
      "C:\\Users\\vinins2\\AppData\\Local\\Temp/ipykernel_19536/2016477695.py:2: SettingWithCopyWarning: \n",
      "A value is trying to be set on a copy of a slice from a DataFrame.\n",
      "Try using .loc[row_indexer,col_indexer] = value instead\n",
      "\n",
      "See the caveats in the documentation: https://pandas.pydata.org/pandas-docs/stable/user_guide/indexing.html#returning-a-view-versus-a-copy\n",
      "  train_spam['v1'] += train_spam.iloc[:, 2:].apply(lambda x: x.dropna().astype(str).str.cat(sep=' '), axis=1)\n"
     ]
    },
    {
     "name": "stdout",
     "output_type": "stream",
     "text": [
      "Modified training set:\n",
      "                                                  v1  \\\n",
      "3586                                             ham   \n",
      "1618                                             ham   \n",
      "2222                                             ham   \n",
      "5537                                            spam   \n",
      "3239  ham but watever u shared should be true\\\"....\"   \n",
      "\n",
      "                                                     v2  \n",
      "3586  Our ride equally uneventful - not too many of ...  \n",
      "1618  The 2 oz guy is being kinda flaky but one frie...  \n",
      "2222  Great. I was getting worried about you. Just k...  \n",
      "5537  Want explicit SEX in 30 secs? Ring 02073162414...  \n",
      "3239  A cute thought for friendship: \\Its not necess...  \n",
      "\n",
      "Modified testing set:\n",
      "       v1                                          v2\n",
      "3144  ham  I.ll get there tomorrow and send it to you\n",
      "5532  ham    happened here while you were adventuring\n",
      "3706  ham        Aight do you still want to get money\n",
      "3097  ham    This is all just creepy and crazy to me.\n",
      "3451  ham                    Ugh just got outta class\n",
      "Count of NaNs in the training set after removing:\n",
      "v1    0\n",
      "v2    0\n",
      "dtype: int64\n",
      "\n",
      "Count of NaNs in the testing set after removing:\n",
      "v1    0\n",
      "v2    0\n",
      "dtype: int64\n"
     ]
    },
    {
     "name": "stderr",
     "output_type": "stream",
     "text": [
      "C:\\Users\\vinins2\\AppData\\Local\\Temp/ipykernel_19536/2016477695.py:3: SettingWithCopyWarning: \n",
      "A value is trying to be set on a copy of a slice from a DataFrame.\n",
      "Try using .loc[row_indexer,col_indexer] = value instead\n",
      "\n",
      "See the caveats in the documentation: https://pandas.pydata.org/pandas-docs/stable/user_guide/indexing.html#returning-a-view-versus-a-copy\n",
      "  test_spam['v1'] += test_spam.iloc[:, 2:].apply(lambda x: x.dropna().astype(str).str.cat(sep=' '), axis=1)\n",
      "C:\\Users\\vinins2\\Anaconda3\\lib\\site-packages\\pandas\\core\\frame.py:4906: SettingWithCopyWarning: \n",
      "A value is trying to be set on a copy of a slice from a DataFrame\n",
      "\n",
      "See the caveats in the documentation: https://pandas.pydata.org/pandas-docs/stable/user_guide/indexing.html#returning-a-view-versus-a-copy\n",
      "  return super().drop(\n"
     ]
    }
   ],
   "source": [
    "# Remove NaN values from the 'unnamed' columns and concatenate them with 'v1' then drop those unnused columns\n",
    "train_spam['v1'] += train_spam.iloc[:, 2:].apply(lambda x: x.dropna().astype(str).str.cat(sep=' '), axis=1)\n",
    "test_spam['v1'] += test_spam.iloc[:, 2:].apply(lambda x: x.dropna().astype(str).str.cat(sep=' '), axis=1)\n",
    "train_spam.drop(columns=train_spam.columns[2:], inplace=True)\n",
    "test_spam.drop(columns=test_spam.columns[2:], inplace=True)\n",
    "\n",
    "# Display the first few rows and list the count of NaNs to make sure there are not any lift\n",
    "print(\"Modified training set:\")\n",
    "print(train_spam.head())\n",
    "print(\"\\nModified testing set:\")\n",
    "print(test_spam.head())\n",
    "\n",
    "print(\"Count of NaNs in the training set after removing:\")\n",
    "print(train_spam.isnull().sum())\n",
    "\n",
    "print(\"\\nCount of NaNs in the testing set after removing:\")\n",
    "print(test_spam.isnull().sum())"
   ]
  },
  {
   "cell_type": "markdown",
   "id": "e36575a8",
   "metadata": {},
   "source": [
    "Something strange happened again where some columns were brought to v1, v1 should only contain 'ham' or 'spam' as our target variable so I am going to drop the rows that contain text other then that"
   ]
  },
  {
   "cell_type": "code",
   "execution_count": 7,
   "id": "abef18f0",
   "metadata": {},
   "outputs": [
    {
     "name": "stdout",
     "output_type": "stream",
     "text": [
      "Shape of the modified training set: (3585, 2)\n",
      "Shape of the modified testing set: (1541, 2)\n",
      "Count of unique values in 'v1' for the training set: 2\n",
      "Count of unique values in 'v1' for the testing set: 2\n"
     ]
    }
   ],
   "source": [
    "# Filter the sets to include only 'ham' or 'spam' entries in the 'v1' column\n",
    "train_spam = train_spam[train_spam['v1'].isin(['ham', 'spam'])]\n",
    "test_spam = test_spam[test_spam['v1'].isin(['ham', 'spam'])]\n",
    "\n",
    "print(\"Shape of the modified training set:\", train_spam.shape)\n",
    "print(\"Shape of the modified testing set:\", test_spam.shape)\n",
    "\n",
    "# Print count of unique values in the 'v1' column for the training set\n",
    "print(\"Count of unique values in 'v1' for the training set:\", train_spam['v1'].nunique())\n",
    "print(\"Count of unique values in 'v1' for the testing set:\", test_spam['v1'].nunique())\n"
   ]
  },
  {
   "cell_type": "markdown",
   "id": "9462ad48",
   "metadata": {},
   "source": [
    "# EDA\n",
    "\n",
    "Now that cleaning is done, we can begin EDA to evaluate distributions and the features. I will begin by analysing the distributions and the word counts along with apply some intuition to determine how to proceed through to model building. "
   ]
  },
  {
   "cell_type": "code",
   "execution_count": 8,
   "id": "73eae8d5",
   "metadata": {},
   "outputs": [
    {
     "data": {
      "image/png": "[encoded data removed]",
      "text/plain": [
       "<Figure size 576x360 with 1 Axes>"
      ]
     },
     "metadata": {
      "needs_background": "light"
     },
     "output_type": "display_data"
    },
    {
     "data": {
      "image/png": "[encoded data removed]",
      "text/plain": [
       "<Figure size 576x360 with 1 Axes>"
      ]
     },
     "metadata": {
      "needs_background": "light"
     },
     "output_type": "display_data"
    }
   ],
   "source": [
    "# Plot distribution of target variables for both train and test sets\n",
    "plt.figure(figsize=(8, 5))\n",
    "train_spam['v1'].value_counts().plot(kind='bar', color=['blue', 'red'])\n",
    "plt.title('Distribution of Target Variable (Training Set)')\n",
    "plt.xlabel('Category')\n",
    "plt.ylabel('Count')\n",
    "plt.xticks(rotation=0)\n",
    "plt.show()\n",
    "\n",
    "plt.figure(figsize=(8, 5))\n",
    "test_spam['v1'].value_counts().plot(kind='bar', color=['blue', 'red'])\n",
    "plt.title('Distribution of Target Variable (Testing Set)')\n",
    "plt.xlabel('Category')\n",
    "plt.ylabel('Count')\n",
    "plt.xticks(rotation=0)\n",
    "plt.show()\n"
   ]
  },
  {
   "cell_type": "markdown",
   "id": "d2b1b78a",
   "metadata": {},
   "source": [
    "The distribution is fairly uneven so we need to use boot strapping to even out our training set otherwise the model could predict ham too frequently. "
   ]
  },
  {
   "cell_type": "code",
   "execution_count": 9,
   "id": "6478a933",
   "metadata": {},
   "outputs": [
    {
     "name": "stdout",
     "output_type": "stream",
     "text": [
      "Distribution of 'ham' and 'spam' observations after bootstrapping:\n",
      "spam    3140\n",
      "ham     3140\n",
      "Name: v1, dtype: int64\n"
     ]
    },
    {
     "data": {
      "image/png": "[encoded data removed]",
      "text/plain": [
       "<Figure size 576x360 with 1 Axes>"
      ]
     },
     "metadata": {
      "needs_background": "light"
     },
     "output_type": "display_data"
    }
   ],
   "source": [
    "# Calculate the difference in counts between 'ham' and 'spam' observations\n",
    "ham_count = (train_spam['v1'] == 'ham').sum()\n",
    "spam_count = (train_spam['v1'] == 'spam').sum()\n",
    "count_diff = ham_count - spam_count\n",
    "\n",
    "# Identify indices of 'spam' observations\n",
    "spam_indices = train_spam[train_spam['v1'] == 'spam'].index\n",
    "\n",
    "# Randomly sample 'spam' indices with replacement\n",
    "bootstrapped_indices = np.random.choice(spam_indices, size=count_diff, replace=True)\n",
    "\n",
    "# Append bootstrapped observations\n",
    "bootstrapped_samples = train_spam.loc[bootstrapped_indices]\n",
    "train_spam = pd.concat([train_spam, bootstrapped_samples])\n",
    "\n",
    "# Shuffle the training set\n",
    "train_spam = train_spam.sample(frac=1, random_state=42).reset_index(drop=True)\n",
    "\n",
    "\n",
    "print(\"Distribution of 'ham' and 'spam' observations after bootstrapping:\")\n",
    "print(train_spam['v1'].value_counts())\n",
    "\n",
    "plt.figure(figsize=(8, 5))\n",
    "train_spam['v1'].value_counts().plot(kind='bar', color=['blue', 'red'])\n",
    "plt.title('Distribution of Target Variable in the Training Set')\n",
    "plt.xlabel('Category')\n",
    "plt.ylabel('Count')\n",
    "plt.xticks(rotation=0)\n",
    "plt.show()"
   ]
  },
  {
   "cell_type": "markdown",
   "id": "4b323bf9",
   "metadata": {},
   "source": [
    "This next step will remove special characters and lower case all words so the model does not treat them differently compared to the same word with no capatalized letters. "
   ]
  },
  {
   "cell_type": "code",
   "execution_count": 10,
   "id": "1f32fcd2",
   "metadata": {},
   "outputs": [
    {
     "name": "stdout",
     "output_type": "stream",
     "text": [
      "     v1                                                 v2  \\\n",
      "0  spam  WIN a å£200 Shopping spree every WEEK Starting...   \n",
      "1  spam  WIN a å£200 Shopping spree every WEEK Starting...   \n",
      "2   ham                           Bring home some Wendy =D   \n",
      "3  spam  Got what it takes 2 take part in the WRC Rally...   \n",
      "4   ham                I HAVE A DATE ON SUNDAY WITH WILL!!   \n",
      "\n",
      "                                      Text Processed  \n",
      "0  WIN a å200 Shopping spree every WEEK Starting ...  \n",
      "1  WIN a å200 Shopping spree every WEEK Starting ...  \n",
      "2                            Bring home some Wendy D  \n",
      "3  Got what it takes 2 take part in the WRC Rally...  \n",
      "4                  I HAVE A DATE ON SUNDAY WITH WILL  \n"
     ]
    }
   ],
   "source": [
    "#https://www.geeksforgeeks.org/python-removing-unwanted-characters-from-string/\n",
    "\n",
    "# Define the regular expression pattern to match punctuation\n",
    "punctuation_pattern = r'[^\\w\\s]'\n",
    "\n",
    "# Apply the regular expression pattern to preprocess the text\n",
    "train_spam['Text Processed'] = train_spam['v2'].apply(lambda x: re.sub(punctuation_pattern, '', x))\n",
    "\n",
    "print(train_spam.head())"
   ]
  },
  {
   "cell_type": "markdown",
   "id": "3678d968",
   "metadata": {},
   "source": [
    "Next, I wanted to remove the outliers. To do this, I first find the length of each text message and then plot the box plots. From there, I remove anything that is outside the IQR. "
   ]
  },
  {
   "cell_type": "code",
   "execution_count": 11,
   "id": "5e15a7a5",
   "metadata": {},
   "outputs": [
    {
     "data": {
      "image/png": "[encoded data removed]",
      "text/plain": [
       "<Figure size 720x432 with 2 Axes>"
      ]
     },
     "metadata": {
      "needs_background": "light"
     },
     "output_type": "display_data"
    }
   ],
   "source": [
    "# Compute the length\n",
    "train_spam['text length'] = train_spam['v2'].apply(len)\n",
    "test_spam['text length'] = test_spam['v2'].apply(len)\n",
    "\n",
    "plt.figure(figsize=(10, 6))\n",
    "plt.subplot(1, 2, 1)\n",
    "sns.boxplot(y='text length', data=train_spam)\n",
    "plt.title('Box Plot of Training Set Length of Messages')\n",
    "\n",
    "plt.subplot(1, 2, 2)\n",
    "sns.boxplot(y='text length', data=test_spam)\n",
    "plt.title('Box Plot of Testing Set Length of Messages')\n",
    "\n",
    "plt.tight_layout()\n",
    "plt.show()\n"
   ]
  },
  {
   "cell_type": "code",
   "execution_count": 12,
   "id": "ab7e80ad",
   "metadata": {},
   "outputs": [
    {
     "name": "stdout",
     "output_type": "stream",
     "text": [
      "Upper outliers:\n",
      "       v1                                                 v2  \\\n",
      "149   ham  And that is the problem. You walk around in \\j...   \n",
      "839   ham  Ola would get back to you maybe not today but ...   \n",
      "1399  ham  I was wondering if it would be okay for you to...   \n",
      "2083  ham  no, i *didn't* mean to post it. I wrote it, an...   \n",
      "2265  ham  Dude. What's up. How Teresa. Hope you have bee...   \n",
      "2310  ham  For me the love should start with attraction.i...   \n",
      "2381  ham  We know TAJ MAHAL as symbol of love. But the o...   \n",
      "2898  ham  Sad story of a Man - Last week was my b'day. M...   \n",
      "3111  ham  The last thing i ever wanted to do was hurt yo...   \n",
      "3143  ham  I know you are thinkin malaria. But relax, chi...   \n",
      "3172  ham  &lt;#&gt;  is fast approaching. So, Wish u a v...   \n",
      "3297  ham  Spoke with uncle john today. He strongly feels...   \n",
      "3583  ham  A Boy loved a gal. He propsd bt she didnt mind...   \n",
      "3817  ham  Hey babe, sorry i didn't get sooner. Gary can ...   \n",
      "4117  ham  Hey sweet, I was wondering when you had a mome...   \n",
      "4450  ham  No i'm not. I can't give you everything you wa...   \n",
      "5116  ham  Can you tell Shola to please go to college of ...   \n",
      "5231  ham  How to Make a girl Happy? It's not at all diff...   \n",
      "5288  ham  I can't keep going through this. It was never ...   \n",
      "5329  ham  Sir, I have been late in paying rent for the p...   \n",
      "5365  ham  Do whatever you want. You know what the rules ...   \n",
      "6240  ham  It so happens that there r 2waxsto do wat you ...   \n",
      "\n",
      "                                         Text Processed  text length  \n",
      "149   And that is the problem You walk around in jul...          381  \n",
      "839   Ola would get back to you maybe not today but ...          306  \n",
      "1399  I was wondering if it would be okay for you to...          338  \n",
      "2083  no i didnt mean to post it I wrote it and like...          415  \n",
      "2265  Dude Whats up How Teresa Hope you have been ok...          332  \n",
      "2310  For me the love should start with attractioni ...          910  \n",
      "2381  We know TAJ MAHAL as symbol of love But the ot...          322  \n",
      "2898  Sad story of a Man  Last week was my bday My W...          588  \n",
      "3111  The last thing i ever wanted to do was hurt yo...          790  \n",
      "3143  I know you are thinkin malaria But relax child...          329  \n",
      "3172  ltgt  is fast approaching So Wish u a very Hap...          461  \n",
      "3297  Spoke with uncle john today He strongly feels ...          382  \n",
      "3583  A Boy loved a gal He propsd bt she didnt mind ...          450  \n",
      "3817  Hey babe sorry i didnt get sooner Gary can com...          327  \n",
      "4117  Hey sweet I was wondering when you had a momen...          458  \n",
      "4450  No im not I cant give you everything you want ...          363  \n",
      "5116  Can you tell Shola to please go to college of ...          408  \n",
      "5231  How to Make a girl Happy Its not at all diffic...          611  \n",
      "5288  I cant keep going through this It was never my...          431  \n",
      "5329  Sir I have been late in paying rent for the pa...          372  \n",
      "5365  Do whatever you want You know what the rules a...          375  \n",
      "6240  It so happens that there r 2waxsto do wat you ...          329  \n",
      "\n",
      "Lower outliers:\n",
      "Empty DataFrame\n",
      "Columns: [v1, v2, Text Processed, text length]\n",
      "Index: []\n"
     ]
    }
   ],
   "source": [
    "# Find the IQR\n",
    "percentile25 = train_spam['text length'].quantile(0.25)\n",
    "percentile75 = train_spam['text length'].quantile(0.75)\n",
    "iqr = percentile75 - percentile25\n",
    "\n",
    "# Find upper and lower limits\n",
    "upper_limit = percentile75 + 1.5 * iqr\n",
    "lower_limit = percentile25 - 1.5 * iqr\n",
    "\n",
    "# Identify the outliers\n",
    "upper_outliers = train_spam[train_spam['text length'] > upper_limit]\n",
    "lower_outliers = train_spam[train_spam['text length'] < lower_limit]\n",
    "\n",
    "print(\"Upper outliers:\")\n",
    "print(upper_outliers)\n",
    "\n",
    "print(\"\\nLower outliers:\")\n",
    "print(lower_outliers)\n"
   ]
  },
  {
   "cell_type": "code",
   "execution_count": 13,
   "id": "363c6974",
   "metadata": {},
   "outputs": [],
   "source": [
    "#update the data frame by removing anything on the upper limit\n",
    "train_spam = train_spam[train_spam['text length'] < upper_limit]"
   ]
  },
  {
   "cell_type": "code",
   "execution_count": 14,
   "id": "8bc48d3a",
   "metadata": {},
   "outputs": [],
   "source": [
    "# Repeat for the test data set\n",
    "\n",
    "percentile25_test = test_spam['text length'].quantile(0.25)\n",
    "percentile75_test = test_spam['text length'].quantile(0.75)\n",
    "iqr_test = percentile75_test - percentile25_test\n",
    "\n",
    "upper_limit_test = percentile75_test + 1.5 * iqr_test\n",
    "lower_limit_test = percentile25_test - 1.5 * iqr_test\n",
    "\n",
    "upper_outliers_test = test_spam[test_spam['text length'] > upper_limit_test]\n",
    "lower_outliers_test = test_spam[test_spam['text length'] < lower_limit_test]\n",
    "\n",
    "test_spam = test_spam[test_spam['text length'] < upper_limit_test]\n"
   ]
  },
  {
   "cell_type": "markdown",
   "id": "d6254145",
   "metadata": {},
   "source": [
    "Now I am going to plot the most common words and then remove words that appear very frequently. "
   ]
  },
  {
   "cell_type": "code",
   "execution_count": 15,
   "id": "b034355b",
   "metadata": {},
   "outputs": [
    {
     "data": {
      "text/plain": [
       "<Figure size 864x576 with 0 Axes>"
      ]
     },
     "metadata": {},
     "output_type": "display_data"
    },
    {
     "data": {
      "image/png": "[encoded data removed]",
      "text/plain": [
       "<Figure size 576x432 with 1 Axes>"
      ]
     },
     "metadata": {
      "needs_background": "light"
     },
     "output_type": "display_data"
    },
    {
     "data": {
      "image/png": "[encoded data removed]",
      "text/plain": [
       "<Figure size 576x432 with 1 Axes>"
      ]
     },
     "metadata": {
      "needs_background": "light"
     },
     "output_type": "display_data"
    }
   ],
   "source": [
    "# Plot histogram of words by category\n",
    "plt.figure(figsize=(12, 8))\n",
    "\n",
    "categories = train_spam['v1'].unique()\n",
    "\n",
    "for category in categories:\n",
    "    plt.figure(figsize=(8, 6))\n",
    "    words_by_category = train_spam[train_spam['v1'] == category]['Text Processed'].str.split().sum()\n",
    "    word_freq = Counter(words_by_category)\n",
    "    common_words = word_freq.most_common(10)  # Get the 10 most common words\n",
    "    common_words_df = pd.DataFrame(common_words, columns=['Word', 'Frequency'])\n",
    "    sns.barplot(x='Word', y='Frequency', data=common_words_df)\n",
    "    plt.title(f'Top 10 Most Common Words in Category: {category}')\n",
    "    plt.xlabel('Word')\n",
    "    plt.ylabel('Frequency')\n",
    "    plt.xticks(rotation=45)\n",
    "    plt.show()\n"
   ]
  },
  {
   "cell_type": "markdown",
   "id": "11064fd3",
   "metadata": {},
   "source": [
    "These are very similar and what I suspect are a lot of 'stop' words. I am going to remove stop words and reevaluate. "
   ]
  },
  {
   "cell_type": "code",
   "execution_count": 16,
   "id": "fb11585c",
   "metadata": {},
   "outputs": [],
   "source": [
    "# Function to remove stopwords from text\n",
    "def remove_stopwords(text):\n",
    "    stop_words = set(stopwords.words('english'))\n",
    "    words = nltk.word_tokenize(text)\n",
    "    filtered_words = [word.lower() for word in words if word.lower() not in stop_words and word.isalpha()]\n",
    "    filtered_text = ' '.join(filtered_words)\n",
    "    return filtered_text\n",
    "\n",
    "# Apply preprocessing to each row in train/test dataframe and store in a list of lists\n",
    "train_spam['Text Processed'] = train_spam['v2'].apply(remove_stopwords)\n",
    "test_spam['Text Processed'] = test_spam['v2'].apply(remove_stopwords)"
   ]
  },
  {
   "cell_type": "code",
   "execution_count": 17,
   "id": "a1f73d71",
   "metadata": {},
   "outputs": [
    {
     "data": {
      "text/plain": [
       "<Figure size 864x576 with 0 Axes>"
      ]
     },
     "metadata": {},
     "output_type": "display_data"
    },
    {
     "data": {
      "image/png": "[encoded data removed]",
      "text/plain": [
       "<Figure size 576x432 with 1 Axes>"
      ]
     },
     "metadata": {
      "needs_background": "light"
     },
     "output_type": "display_data"
    },
    {
     "data": {
      "image/png": "[encoded data removed]",
      "text/plain": [
       "<Figure size 576x432 with 1 Axes>"
      ]
     },
     "metadata": {
      "needs_background": "light"
     },
     "output_type": "display_data"
    }
   ],
   "source": [
    "# Plot histogram of words by category\n",
    "plt.figure(figsize=(12, 8))\n",
    "\n",
    "# Get unique categories\n",
    "categories = train_spam['v1'].unique()\n",
    "\n",
    "for category in categories:\n",
    "    plt.figure(figsize=(8, 6))\n",
    "    words_by_category = train_spam[train_spam['v1'] == category]['Text Processed'].str.split().sum()\n",
    "    word_freq = Counter(words_by_category)\n",
    "    common_words = word_freq.most_common(10)  # Get the 10 most common words\n",
    "    common_words_df = pd.DataFrame(common_words, columns=['Word', 'Frequency'])\n",
    "    sns.barplot(x='Word', y='Frequency', data=common_words_df)\n",
    "    plt.title(f'Top 10 Most Common Words in Category: {category}')\n",
    "    plt.xlabel('Word')\n",
    "    plt.ylabel('Frequency')\n",
    "    plt.xticks(rotation=45)\n",
    "    plt.show()\n"
   ]
  },
  {
   "cell_type": "markdown",
   "id": "9131f063",
   "metadata": {},
   "source": [
    "What is interesting here is that the standard \"stop words\" in the english language have been removed (you, to, i, etc) however shortened versions of those words or maybe so called \"text messaging speak\" as I might refer to it have become the most frequent. I am not going to remove these because they could be relevant to the model determining which is Spam and which is Ham. \n",
    "\n",
    "Next I will implement stemming which reduces a word to its base form so words like 'running' and 'run' are treated the same. "
   ]
  },
  {
   "cell_type": "code",
   "execution_count": 18,
   "id": "8dd6e7b7",
   "metadata": {},
   "outputs": [
    {
     "data": {
      "text/html": [
       "<div>\n",
       "<style scoped>\n",
       "    .dataframe tbody tr th:only-of-type {\n",
       "        vertical-align: middle;\n",
       "    }\n",
       "\n",
       "    .dataframe tbody tr th {\n",
       "        vertical-align: top;\n",
       "    }\n",
       "\n",
       "    .dataframe thead th {\n",
       "        text-align: right;\n",
       "    }\n",
       "</style>\n",
       "<table border=\"1\" class=\"dataframe\">\n",
       "  <thead>\n",
       "    <tr style=\"text-align: right;\">\n",
       "      <th></th>\n",
       "      <th>v1</th>\n",
       "      <th>v2</th>\n",
       "      <th>Text Processed</th>\n",
       "      <th>text length</th>\n",
       "      <th>Stemmed Text</th>\n",
       "    </tr>\n",
       "  </thead>\n",
       "  <tbody>\n",
       "    <tr>\n",
       "      <th>0</th>\n",
       "      <td>spam</td>\n",
       "      <td>WIN a å£200 Shopping spree every WEEK Starting...</td>\n",
       "      <td>win shopping spree every week starting play te...</td>\n",
       "      <td>137</td>\n",
       "      <td>win shop spree everi week start play text stor...</td>\n",
       "    </tr>\n",
       "    <tr>\n",
       "      <th>1</th>\n",
       "      <td>spam</td>\n",
       "      <td>WIN a å£200 Shopping spree every WEEK Starting...</td>\n",
       "      <td>win shopping spree every week starting play te...</td>\n",
       "      <td>137</td>\n",
       "      <td>win shop spree everi week start play text stor...</td>\n",
       "    </tr>\n",
       "    <tr>\n",
       "      <th>2</th>\n",
       "      <td>ham</td>\n",
       "      <td>Bring home some Wendy =D</td>\n",
       "      <td>bring home wendy</td>\n",
       "      <td>24</td>\n",
       "      <td>bring home wendi</td>\n",
       "    </tr>\n",
       "    <tr>\n",
       "      <th>3</th>\n",
       "      <td>spam</td>\n",
       "      <td>Got what it takes 2 take part in the WRC Rally...</td>\n",
       "      <td>got takes take part wrc rally oz u lucozade en...</td>\n",
       "      <td>159</td>\n",
       "      <td>got take take part wrc ralli oz u lucozad ener...</td>\n",
       "    </tr>\n",
       "    <tr>\n",
       "      <th>4</th>\n",
       "      <td>ham</td>\n",
       "      <td>I HAVE A DATE ON SUNDAY WITH WILL!!</td>\n",
       "      <td>date sunday</td>\n",
       "      <td>35</td>\n",
       "      <td>date sunday</td>\n",
       "    </tr>\n",
       "  </tbody>\n",
       "</table>\n",
       "</div>"
      ],
      "text/plain": [
       "     v1                                                 v2  \\\n",
       "0  spam  WIN a å£200 Shopping spree every WEEK Starting...   \n",
       "1  spam  WIN a å£200 Shopping spree every WEEK Starting...   \n",
       "2   ham                           Bring home some Wendy =D   \n",
       "3  spam  Got what it takes 2 take part in the WRC Rally...   \n",
       "4   ham                I HAVE A DATE ON SUNDAY WITH WILL!!   \n",
       "\n",
       "                                      Text Processed  text length  \\\n",
       "0  win shopping spree every week starting play te...          137   \n",
       "1  win shopping spree every week starting play te...          137   \n",
       "2                                   bring home wendy           24   \n",
       "3  got takes take part wrc rally oz u lucozade en...          159   \n",
       "4                                        date sunday           35   \n",
       "\n",
       "                                        Stemmed Text  \n",
       "0  win shop spree everi week start play text stor...  \n",
       "1  win shop spree everi week start play text stor...  \n",
       "2                                   bring home wendi  \n",
       "3  got take take part wrc ralli oz u lucozad ener...  \n",
       "4                                        date sunday  "
      ]
     },
     "execution_count": 18,
     "metadata": {},
     "output_type": "execute_result"
    }
   ],
   "source": [
    "stemmer = PorterStemmer()\n",
    "\n",
    "def stem_words(text):\n",
    "    word_tokens = text.split()\n",
    "    stems = [stemmer.stem(word) for word in word_tokens]\n",
    "    return ' '.join(stems)\n",
    "\n",
    "# Apply the stem_words function\n",
    "train_spam['Stemmed Text'] = train_spam['Text Processed'].apply(stem_words)\n",
    "test_spam['Stemmed Text'] = test_spam['Text Processed'].apply(stem_words)\n",
    "\n",
    "train_spam.head()"
   ]
  },
  {
   "cell_type": "markdown",
   "id": "5d65db35",
   "metadata": {},
   "source": [
    "This feels like a good starting point to train a model. We have cleaned the data, processed it through removal of punctuation, stop words and then stemmed it to obtain the base form of the word. "
   ]
  },
  {
   "cell_type": "markdown",
   "id": "49e28770",
   "metadata": {},
   "source": [
    "# Unsupervised Model Training"
   ]
  },
  {
   "cell_type": "markdown",
   "id": "82da9384",
   "metadata": {},
   "source": [
    "Initally, I will use Non-Negative Matrix Factorization to train my model and predict the labels. NMF is a dimensionality technique that reduces the dimensions of a test data set and output many features that hope to define relationships underlying within the dataset. It is commonly used in recommender systems and text analysis. See below for more information on how NMF works at a high level. "
   ]
  },
  {
   "cell_type": "markdown",
   "id": "30ef3a66",
   "metadata": {},
   "source": [
    "## Non-Negative Matrix Factorization (NMF)\n",
    "\n",
    "Non-Negative Matrix Factorization (NMF) is a dimensionality reduction technique commonly used in various fields, including recommender systems and text analysis. Here's a brief overview:\n",
    "\n",
    "1. **Dimensionality Reduction:** NMF decomposes a given matrix into two non-negative matrices with lower dimensions. By doing so, it effectively reduces the dimensionality of the original data while preserving its underlying structure.\n",
    "\n",
    "2. **Feature Extraction:** In text analysis, NMF is often applied to term-document matrices or TF-IDF matrices to extract meaningful features that capture the relationships between terms and documents. Each extracted feature (topic) represents a coherent set of terms, and each document can be represented as a linear combination of these topics.\n",
    "\n",
    "3. **Interpretability:** One of the key advantages of NMF is its ability to produce sparse and interpretable representations. Since both the factor matrices are non-negative, the resulting features and representations are also non-negative, which aids in interpretability.\n",
    "\n",
    "4. **Applications:** NMF is widely used in various applications, including recommender systems, where it helps in identifying latent factors that influence user preferences and item characteristics. In text analysis, it's used for topic modeling, document clustering, and text summarization.\n",
    "\n",
    "5. **Scalability:** NMF is computationally efficient and scalable to large datasets, making it suitable for processing large volumes of text data commonly encountered in real-world applications.\n"
   ]
  },
  {
   "cell_type": "code",
   "execution_count": 19,
   "id": "5cc9d40c",
   "metadata": {},
   "outputs": [
    {
     "name": "stdout",
     "output_type": "stream",
     "text": [
      "Topic 0: call, prize, claim, urgent, contact, guarante, award, valid, tri, line\n",
      "Topic 1: free, text, repli, nokia, txt, phone, call, mobil, get, ur\n"
     ]
    },
    {
     "name": "stderr",
     "output_type": "stream",
     "text": [
      "C:\\Users\\vinins2\\Anaconda3\\lib\\site-packages\\sklearn\\decomposition\\_nmf.py:312: FutureWarning: The 'init' value, when 'init=None' and n_components is less than n_samples and n_features, will be changed from 'nndsvd' to 'nndsvda' in 1.1 (renaming of 0.26).\n",
      "  warnings.warn((\"The 'init' value, when 'init=None' and \"\n"
     ]
    }
   ],
   "source": [
    "# First vectorize matrix using tfidf\n",
    "tfidf_vectorizer = TfidfVectorizer()\n",
    "tfidf_mat_train = tfidf_vectorizer.fit_transform(train_spam['Stemmed Text'])\n",
    "\n",
    "# Fitting the NMF model\n",
    "nmf = NMF(n_components=2, random_state=95)\n",
    "\n",
    "nmf_out = nmf.fit_transform(tfidf_mat_train)\n",
    "\n",
    "feature_names = tfidf_vectorizer.get_feature_names()\n",
    "n_top_words = 10  # Number of top words to display for each component\n",
    "for i, topic in enumerate(nmf.components_):\n",
    "    top_words_idx = topic.argsort()[:-n_top_words - 1:-1]\n",
    "    top_words = [feature_names[idx] for idx in top_words_idx]\n",
    "    print(f\"Topic {i}: {', '.join(top_words)}\")\n"
   ]
  },
  {
   "cell_type": "code",
   "execution_count": 20,
   "id": "cf93d1cd",
   "metadata": {},
   "outputs": [
    {
     "data": {
      "text/html": [
       "<div>\n",
       "<style scoped>\n",
       "    .dataframe tbody tr th:only-of-type {\n",
       "        vertical-align: middle;\n",
       "    }\n",
       "\n",
       "    .dataframe tbody tr th {\n",
       "        vertical-align: top;\n",
       "    }\n",
       "\n",
       "    .dataframe thead th {\n",
       "        text-align: right;\n",
       "    }\n",
       "</style>\n",
       "<table border=\"1\" class=\"dataframe\">\n",
       "  <thead>\n",
       "    <tr style=\"text-align: right;\">\n",
       "      <th></th>\n",
       "      <th>v1</th>\n",
       "      <th>v2</th>\n",
       "      <th>Text Processed</th>\n",
       "      <th>text length</th>\n",
       "      <th>Stemmed Text</th>\n",
       "      <th>Predicted Category</th>\n",
       "    </tr>\n",
       "  </thead>\n",
       "  <tbody>\n",
       "    <tr>\n",
       "      <th>0</th>\n",
       "      <td>spam</td>\n",
       "      <td>WIN a å£200 Shopping spree every WEEK Starting...</td>\n",
       "      <td>win shopping spree every week starting play te...</td>\n",
       "      <td>137</td>\n",
       "      <td>win shop spree everi week start play text stor...</td>\n",
       "      <td>ham</td>\n",
       "    </tr>\n",
       "    <tr>\n",
       "      <th>1</th>\n",
       "      <td>spam</td>\n",
       "      <td>WIN a å£200 Shopping spree every WEEK Starting...</td>\n",
       "      <td>win shopping spree every week starting play te...</td>\n",
       "      <td>137</td>\n",
       "      <td>win shop spree everi week start play text stor...</td>\n",
       "      <td>ham</td>\n",
       "    </tr>\n",
       "    <tr>\n",
       "      <th>2</th>\n",
       "      <td>ham</td>\n",
       "      <td>Bring home some Wendy =D</td>\n",
       "      <td>bring home wendy</td>\n",
       "      <td>24</td>\n",
       "      <td>bring home wendi</td>\n",
       "      <td>ham</td>\n",
       "    </tr>\n",
       "    <tr>\n",
       "      <th>3</th>\n",
       "      <td>spam</td>\n",
       "      <td>Got what it takes 2 take part in the WRC Rally...</td>\n",
       "      <td>got takes take part wrc rally oz u lucozade en...</td>\n",
       "      <td>159</td>\n",
       "      <td>got take take part wrc ralli oz u lucozad ener...</td>\n",
       "      <td>ham</td>\n",
       "    </tr>\n",
       "    <tr>\n",
       "      <th>4</th>\n",
       "      <td>ham</td>\n",
       "      <td>I HAVE A DATE ON SUNDAY WITH WILL!!</td>\n",
       "      <td>date sunday</td>\n",
       "      <td>35</td>\n",
       "      <td>date sunday</td>\n",
       "      <td>spam</td>\n",
       "    </tr>\n",
       "  </tbody>\n",
       "</table>\n",
       "</div>"
      ],
      "text/plain": [
       "     v1                                                 v2  \\\n",
       "0  spam  WIN a å£200 Shopping spree every WEEK Starting...   \n",
       "1  spam  WIN a å£200 Shopping spree every WEEK Starting...   \n",
       "2   ham                           Bring home some Wendy =D   \n",
       "3  spam  Got what it takes 2 take part in the WRC Rally...   \n",
       "4   ham                I HAVE A DATE ON SUNDAY WITH WILL!!   \n",
       "\n",
       "                                      Text Processed  text length  \\\n",
       "0  win shopping spree every week starting play te...          137   \n",
       "1  win shopping spree every week starting play te...          137   \n",
       "2                                   bring home wendy           24   \n",
       "3  got takes take part wrc rally oz u lucozade en...          159   \n",
       "4                                        date sunday           35   \n",
       "\n",
       "                                        Stemmed Text Predicted Category  \n",
       "0  win shop spree everi week start play text stor...                ham  \n",
       "1  win shop spree everi week start play text stor...                ham  \n",
       "2                                   bring home wendi                ham  \n",
       "3  got take take part wrc ralli oz u lucozad ener...                ham  \n",
       "4                                        date sunday               spam  "
      ]
     },
     "execution_count": 20,
     "metadata": {},
     "output_type": "execute_result"
    }
   ],
   "source": [
    "topic_to_category_mapping = {\n",
    "    0: 'spam', \n",
    "    1: 'ham'\n",
    "}\n",
    "dominant_topics = nmf_out.argmax(axis=1)\n",
    "\n",
    "# Mapping the predicted categories to the actual labels and then appending them to the training dataframe\n",
    "dominant_topics_mapped = [topic_to_category_mapping[topic] for topic in dominant_topics]\n",
    "train_spam['Predicted Category'] = dominant_topics_mapped\n",
    "\n",
    "train_spam.head()\n"
   ]
  },
  {
   "cell_type": "code",
   "execution_count": 21,
   "id": "ed369914",
   "metadata": {},
   "outputs": [
    {
     "name": "stdout",
     "output_type": "stream",
     "text": [
      "Accuracy: 0.6033876637903484\n"
     ]
    },
    {
     "data": {
      "image/png": "[encoded data removed]",
      "text/plain": [
       "<Figure size 720x576 with 2 Axes>"
      ]
     },
     "metadata": {
      "needs_background": "light"
     },
     "output_type": "display_data"
    },
    {
     "name": "stdout",
     "output_type": "stream",
     "text": [
      "              precision    recall  f1-score   support\n",
      "\n",
      "        spam       0.57      0.84      0.68      3118\n",
      "         ham       0.70      0.37      0.48      3140\n",
      "\n",
      "    accuracy                           0.60      6258\n",
      "   macro avg       0.63      0.60      0.58      6258\n",
      "weighted avg       0.63      0.60      0.58      6258\n",
      "\n"
     ]
    }
   ],
   "source": [
    "actual_categories = train_spam['v1']\n",
    "\n",
    "accuracy = accuracy_score(actual_categories, train_spam['Predicted Category'])\n",
    "print(f\"Accuracy: {accuracy}\")\n",
    "\n",
    "# Compute confusion matrix\n",
    "conf_matrix = confusion_matrix(actual_categories, train_spam['Predicted Category'], labels=list(topic_to_category_mapping.values()))\n",
    "\n",
    "plt.figure(figsize=(10, 8))\n",
    "sns.heatmap(conf_matrix, annot=True, fmt=\"d\", cmap=\"Blues\", xticklabels= train_spam['v1'].unique(), yticklabels=train_spam['Predicted Category'].unique())\n",
    "plt.title('Confusion Matrix')\n",
    "plt.xlabel('Predicted Label')\n",
    "plt.ylabel('True Label')\n",
    "plt.show()\n",
    "\n",
    "class_report = classification_report(actual_categories, train_spam['Predicted Category'], target_names=list(topic_to_category_mapping.values()))\n",
    "print(class_report)"
   ]
  },
  {
   "cell_type": "markdown",
   "id": "d24ab9cc",
   "metadata": {},
   "source": [
    "The model achieved a precision of 0.57 for predicting spam, indicating that 57% of the messages classified as spam were actually spam, and a precision of 0.74 for predicting ham, meaning that 73% of the messages classified as ham were genuinely ham. In terms of recall, the model performed well for spam with a score of 0.88, indicating that it correctly identified 88% of the actual spam messages. However, its recall for ham was lower at 0.34, suggesting that only 34% of the actual ham messages were correctly classified. The F1-score, which balances precision and recall, was 0.69 for spam and 0.47 for ham. The overall accuracy of the model was 0.61, indicating that it correctly classified 61% of all messages. While the model showed effectiveness in identifying spam, it demonstrated weaker performance in accurately classifying ham messages. I am going to use hyperparameter tuining methods to see if I can improve this. "
   ]
  },
  {
   "cell_type": "code",
   "execution_count": 22,
   "id": "c8406d8a",
   "metadata": {},
   "outputs": [
    {
     "name": "stderr",
     "output_type": "stream",
     "text": [
      "C:\\Users\\vinins2\\Anaconda3\\lib\\site-packages\\sklearn\\model_selection\\_search.py:922: UserWarning: One or more of the test scores are non-finite: [0.58756956 0.60546438 0.58756956 0.60546438 0.58756956 0.60546438\n",
      " 0.58756956 0.60546438 0.58756956 0.60546438 0.58756956 0.60546438\n",
      " 0.58756956 0.60546438 0.58756956 0.60546438 0.58756956 0.60546438\n",
      " 0.58756956 0.60546438 0.58756956 0.60546438 0.58756956 0.60546438\n",
      " 0.69718934        nan 0.69718934        nan 0.69718934        nan\n",
      " 0.69718934        nan 0.69718934        nan 0.69718934        nan\n",
      " 0.69718934        nan 0.69718934        nan 0.69718934        nan\n",
      " 0.69718934        nan 0.69718934        nan 0.69718934        nan\n",
      " 0.58724943 0.60386694 0.58724943 0.60194924 0.58724943 0.60162962\n",
      " 0.58724943 0.60162962 0.57782119 0.55560906 0.57782119 0.55720689\n",
      " 0.57782119 0.55720689 0.57782119 0.55720689 0.54698095 0.4228151\n",
      " 0.54698095 0.4228151  0.54698095 0.4228151  0.54698095 0.4228151\n",
      " 0.69718934        nan 0.69718934        nan 0.69718934        nan\n",
      " 0.69718934        nan 0.6970296         nan 0.6970296         nan\n",
      " 0.6970296         nan 0.6970296         nan 0.69718947        nan\n",
      " 0.69718947        nan 0.69718947        nan 0.69718947        nan\n",
      " 0.58676943 0.60290809 0.58676943 0.60290809 0.58676943 0.60290809\n",
      " 0.58676943 0.60290809 0.5466612  0.3961277  0.5466612  0.3961277\n",
      " 0.5466612  0.3961277  0.5466612  0.3961277  0.47219336 0.31032248\n",
      " 0.47219336 0.31032248 0.47219336 0.31032248 0.47219336 0.31032248\n",
      " 0.69686998        nan 0.69686998        nan 0.69686998        nan\n",
      " 0.69686998        nan 0.69702972        nan 0.69702972        nan\n",
      " 0.69702972        nan 0.69702972        nan 0.69607075        nan\n",
      " 0.69607075        nan 0.69607075        nan 0.69607075        nan]\n",
      "  warnings.warn(\n",
      "C:\\Users\\vinins2\\Anaconda3\\lib\\site-packages\\sklearn\\decomposition\\_nmf.py:226: UserWarning: The multiplicative update ('mu') solver cannot update zeros present in the initialization, and so leads to poorer results when used jointly with init='nndsvd'. You may try init='nndsvda' or init='nndsvdar' instead.\n",
      "  warnings.warn(\"The multiplicative update ('mu') solver cannot update \"\n"
     ]
    },
    {
     "name": "stdout",
     "output_type": "stream",
     "text": [
      "Best Parameters: {'nmf__alpha': 0.1, 'nmf__beta_loss': 'kullback-leibler', 'nmf__init': 'nndsvd', 'nmf__l1_ratio': 0.5, 'nmf__max_iter': 50, 'nmf__solver': 'mu'}\n"
     ]
    },
    {
     "name": "stderr",
     "output_type": "stream",
     "text": [
      "C:\\Users\\vinins2\\Anaconda3\\lib\\site-packages\\sklearn\\decomposition\\_nmf.py:1090: ConvergenceWarning: Maximum number of iterations 50 reached. Increase it to improve convergence.\n",
      "  warnings.warn(\"Maximum number of iterations %d reached. Increase it to\"\n"
     ]
    }
   ],
   "source": [
    "tfidf_vectorizer = TfidfVectorizer()\n",
    "nmf = NMF(n_components=2, random_state=95)\n",
    "\n",
    "# Define the pipeline with TF-IDF vectorizer and NMF model\n",
    "pipeline = Pipeline([\n",
    "    ('tfidf', tfidf_vectorizer),\n",
    "    ('nmf', nmf)\n",
    "])\n",
    "\n",
    "# Define the parameter grid\n",
    "param_grid = {\n",
    "    'nmf__init': ['nndsvd'],\n",
    "    'nmf__solver': ['mu','cd'],\n",
    "    'nmf__beta_loss': ['frobenius', 'kullback-leibler'],\n",
    "    'nmf__max_iter': [50, 100, 200, 300],\n",
    "    'nmf__alpha': [0.0, 0.1, 0.5],\n",
    "    'nmf__l1_ratio': [0.0, 0.1, 0.5]\n",
    "}\n",
    "\n",
    "def acc_score(estimator, X, y):\n",
    "    topic_matrix = estimator.transform(X)\n",
    "    topic_indices = topic_matrix.argmax(axis=1)\n",
    "    predicted_categories = [topic_to_category_mapping[topic] for topic in topic_indices]\n",
    "    return accuracy_score(y, predicted_categories)\n",
    "\n",
    "# Perform grid search\n",
    "grid_search = GridSearchCV(pipeline, param_grid, cv=5, scoring=acc_score, n_jobs=-1)\n",
    "grid_search.fit(train_spam['Stemmed Text'], train_spam['v1'])\n",
    "\n",
    "# Extract best parameters\n",
    "best_params = grid_search.best_params_\n",
    "print(\"Best Parameters:\", best_params)\n"
   ]
  },
  {
   "cell_type": "code",
   "execution_count": 23,
   "id": "9db7a92f",
   "metadata": {},
   "outputs": [
    {
     "name": "stdout",
     "output_type": "stream",
     "text": [
      "Topic 0: call, claim, prize, contact, mobil, urgent, pleas, servic, free, award\n",
      "Topic 1: get, free, text, go, ur, come, ok, send, txt, stop\n"
     ]
    }
   ],
   "source": [
    "tfidf_vectorizer = TfidfVectorizer()\n",
    "tfidf_mat_train = tfidf_vectorizer.fit_transform(train_spam['Stemmed Text'])\n",
    "\n",
    "# Fitting the NMF model with the hyper parameters identified as being best\n",
    "nmf = NMF(n_components=2, random_state=95, alpha = 0.0, beta_loss = 'kullback-leibler', init = 'nndsvda', l1_ratio = 0.0, max_iter = 50, solver = 'mu')\n",
    "\n",
    "nmf_out = nmf.fit_transform(tfidf_mat_train)\n",
    "\n",
    "feature_names = tfidf_vectorizer.get_feature_names()\n",
    "n_top_words = 10  # Number of top words to display for each component\n",
    "for i, topic in enumerate(nmf.components_):\n",
    "    top_words_idx = topic.argsort()[:-n_top_words - 1:-1]\n",
    "    top_words = [feature_names[idx] for idx in top_words_idx]\n",
    "    print(f\"Topic {i}: {', '.join(top_words)}\")\n"
   ]
  },
  {
   "cell_type": "code",
   "execution_count": 24,
   "id": "26e20053",
   "metadata": {},
   "outputs": [
    {
     "data": {
      "text/html": [
       "<div>\n",
       "<style scoped>\n",
       "    .dataframe tbody tr th:only-of-type {\n",
       "        vertical-align: middle;\n",
       "    }\n",
       "\n",
       "    .dataframe tbody tr th {\n",
       "        vertical-align: top;\n",
       "    }\n",
       "\n",
       "    .dataframe thead th {\n",
       "        text-align: right;\n",
       "    }\n",
       "</style>\n",
       "<table border=\"1\" class=\"dataframe\">\n",
       "  <thead>\n",
       "    <tr style=\"text-align: right;\">\n",
       "      <th></th>\n",
       "      <th>v1</th>\n",
       "      <th>v2</th>\n",
       "      <th>Text Processed</th>\n",
       "      <th>text length</th>\n",
       "      <th>Stemmed Text</th>\n",
       "      <th>Predicted Category</th>\n",
       "    </tr>\n",
       "  </thead>\n",
       "  <tbody>\n",
       "    <tr>\n",
       "      <th>0</th>\n",
       "      <td>spam</td>\n",
       "      <td>WIN a å£200 Shopping spree every WEEK Starting...</td>\n",
       "      <td>win shopping spree every week starting play te...</td>\n",
       "      <td>137</td>\n",
       "      <td>win shop spree everi week start play text stor...</td>\n",
       "      <td>spam</td>\n",
       "    </tr>\n",
       "    <tr>\n",
       "      <th>1</th>\n",
       "      <td>spam</td>\n",
       "      <td>WIN a å£200 Shopping spree every WEEK Starting...</td>\n",
       "      <td>win shopping spree every week starting play te...</td>\n",
       "      <td>137</td>\n",
       "      <td>win shop spree everi week start play text stor...</td>\n",
       "      <td>spam</td>\n",
       "    </tr>\n",
       "    <tr>\n",
       "      <th>2</th>\n",
       "      <td>ham</td>\n",
       "      <td>Bring home some Wendy =D</td>\n",
       "      <td>bring home wendy</td>\n",
       "      <td>24</td>\n",
       "      <td>bring home wendi</td>\n",
       "      <td>ham</td>\n",
       "    </tr>\n",
       "    <tr>\n",
       "      <th>3</th>\n",
       "      <td>spam</td>\n",
       "      <td>Got what it takes 2 take part in the WRC Rally...</td>\n",
       "      <td>got takes take part wrc rally oz u lucozade en...</td>\n",
       "      <td>159</td>\n",
       "      <td>got take take part wrc ralli oz u lucozad ener...</td>\n",
       "      <td>ham</td>\n",
       "    </tr>\n",
       "    <tr>\n",
       "      <th>4</th>\n",
       "      <td>ham</td>\n",
       "      <td>I HAVE A DATE ON SUNDAY WITH WILL!!</td>\n",
       "      <td>date sunday</td>\n",
       "      <td>35</td>\n",
       "      <td>date sunday</td>\n",
       "      <td>spam</td>\n",
       "    </tr>\n",
       "  </tbody>\n",
       "</table>\n",
       "</div>"
      ],
      "text/plain": [
       "     v1                                                 v2  \\\n",
       "0  spam  WIN a å£200 Shopping spree every WEEK Starting...   \n",
       "1  spam  WIN a å£200 Shopping spree every WEEK Starting...   \n",
       "2   ham                           Bring home some Wendy =D   \n",
       "3  spam  Got what it takes 2 take part in the WRC Rally...   \n",
       "4   ham                I HAVE A DATE ON SUNDAY WITH WILL!!   \n",
       "\n",
       "                                      Text Processed  text length  \\\n",
       "0  win shopping spree every week starting play te...          137   \n",
       "1  win shopping spree every week starting play te...          137   \n",
       "2                                   bring home wendy           24   \n",
       "3  got takes take part wrc rally oz u lucozade en...          159   \n",
       "4                                        date sunday           35   \n",
       "\n",
       "                                        Stemmed Text Predicted Category  \n",
       "0  win shop spree everi week start play text stor...               spam  \n",
       "1  win shop spree everi week start play text stor...               spam  \n",
       "2                                   bring home wendi                ham  \n",
       "3  got take take part wrc ralli oz u lucozad ener...                ham  \n",
       "4                                        date sunday               spam  "
      ]
     },
     "execution_count": 24,
     "metadata": {},
     "output_type": "execute_result"
    }
   ],
   "source": [
    "topic_to_category_mapping = {\n",
    "    0: 'spam', \n",
    "    1: 'ham'\n",
    "}\n",
    "dominant_topics = nmf_out.argmax(axis=1)\n",
    "\n",
    "# Mapping the predicted categories to the actual labels and then appending them to the training dataframe\n",
    "dominant_topics_mapped = [topic_to_category_mapping[topic] for topic in dominant_topics]\n",
    "train_spam['Predicted Category'] = dominant_topics_mapped\n",
    "\n",
    "train_spam.head()"
   ]
  },
  {
   "cell_type": "code",
   "execution_count": 25,
   "id": "76a4ab86",
   "metadata": {},
   "outputs": [
    {
     "name": "stdout",
     "output_type": "stream",
     "text": [
      "Accuracy: 0.7435282837967402\n"
     ]
    },
    {
     "data": {
      "image/png": "[encoded data removed]",
      "text/plain": [
       "<Figure size 720x576 with 2 Axes>"
      ]
     },
     "metadata": {
      "needs_background": "light"
     },
     "output_type": "display_data"
    },
    {
     "name": "stdout",
     "output_type": "stream",
     "text": [
      "              precision    recall  f1-score   support\n",
      "\n",
      "        spam       0.69      0.87      0.77      3118\n",
      "         ham       0.82      0.62      0.71      3140\n",
      "\n",
      "    accuracy                           0.74      6258\n",
      "   macro avg       0.76      0.74      0.74      6258\n",
      "weighted avg       0.76      0.74      0.74      6258\n",
      "\n"
     ]
    }
   ],
   "source": [
    "actual_categories = train_spam['v1']\n",
    "\n",
    "accuracy = accuracy_score(actual_categories, train_spam['Predicted Category'])\n",
    "print(f\"Accuracy: {accuracy}\")\n",
    "\n",
    "# Compute confusion matrix\n",
    "conf_matrix = confusion_matrix(actual_categories, train_spam['Predicted Category'], labels=list(topic_to_category_mapping.values()))\n",
    "plt.figure(figsize=(10, 8))\n",
    "sns.heatmap(conf_matrix, annot=True, fmt=\"d\", cmap=\"Blues\", xticklabels= train_spam['v1'].unique(), yticklabels=train_spam['Predicted Category'].unique())\n",
    "plt.title('Confusion Matrix')\n",
    "plt.xlabel('Predicted Label')\n",
    "plt.ylabel('True Label')\n",
    "plt.show()\n",
    "\n",
    "class_report = classification_report(actual_categories, train_spam['Predicted Category'], target_names=list(topic_to_category_mapping.values()))\n",
    "print(class_report)"
   ]
  },
  {
   "cell_type": "markdown",
   "id": "1a50e9cb",
   "metadata": {},
   "source": [
    "74% accuracy is not bad and is an improvement compared to before we tuned hyperparameters. Additionally, we see an increase in the F1 score indicating higher reliability in the model. The largest improvement was see in prevsion and recall for ham which have a 83% and 61% respectively. I will move on to testing the model on the data set. "
   ]
  },
  {
   "cell_type": "code",
   "execution_count": 26,
   "id": "1213041d",
   "metadata": {},
   "outputs": [
    {
     "name": "stdout",
     "output_type": "stream",
     "text": [
      "Topic 0: call, claim, prize, contact, mobil, urgent, pleas, servic, free, award\n",
      "Topic 1: get, free, text, go, ur, come, ok, send, txt, stop\n",
      "Accuracy: 0.8706500328299409\n"
     ]
    },
    {
     "data": {
      "image/png": "[encoded data removed]",
      "text/plain": [
       "<Figure size 720x576 with 2 Axes>"
      ]
     },
     "metadata": {
      "needs_background": "light"
     },
     "output_type": "display_data"
    },
    {
     "name": "stdout",
     "output_type": "stream",
     "text": [
      "              precision    recall  f1-score   support\n",
      "\n",
      "        spam       0.94      0.91      0.92      1319\n",
      "         ham       0.51      0.62      0.56       204\n",
      "\n",
      "    accuracy                           0.87      1523\n",
      "   macro avg       0.73      0.77      0.74      1523\n",
      "weighted avg       0.88      0.87      0.88      1523\n",
      "\n"
     ]
    }
   ],
   "source": [
    "# Transform the test set using the fitted TF-IDF vectorizer\n",
    "tfidf_mat_test = tfidf_vectorizer.transform(test_spam['Stemmed Text'])\n",
    "\n",
    "# Now get the nmf Transform on the TF-IDF matrix\n",
    "nmf_out_test = nmf.transform(tfidf_mat_test)\n",
    "\n",
    "# Display top words for each topic based on the NMF model fitted on the training set\n",
    "feature_names = tfidf_vectorizer.get_feature_names()\n",
    "n_top_words = 10  # Number of top words to display for each component\n",
    "for i, topic in enumerate(nmf.components_):\n",
    "    top_words_idx = topic.argsort()[:-n_top_words - 1:-1]\n",
    "    top_words = [feature_names[idx] for idx in top_words_idx]\n",
    "    print(f\"Topic {i}: {', '.join(top_words)}\")\n",
    "\n",
    "# Map the predicted categories to the actual labels\n",
    "dominant_topics = nmf_out_test.argmax(axis=1)\n",
    "dominant_topics_mapped = [topic_to_category_mapping[topic] for topic in dominant_topics]\n",
    "test_spam['Predicted Category'] = dominant_topics_mapped\n",
    "\n",
    "# Evaluate the model \n",
    "actual_categories = test_spam['v1']\n",
    "predicted_categories = test_spam['Predicted Category']\n",
    "\n",
    "accuracy = accuracy_score(actual_categories, predicted_categories)\n",
    "print(f\"Accuracy: {accuracy}\")\n",
    "\n",
    "conf_matrix = confusion_matrix(actual_categories, predicted_categories, labels=list(topic_to_category_mapping.values()))\n",
    "\n",
    "plt.figure(figsize=(10, 8))\n",
    "sns.heatmap(conf_matrix, annot=True, fmt=\"d\", cmap=\"Blues\", xticklabels=test_spam['v1'].unique(), yticklabels=test_spam['Predicted Category'].unique())\n",
    "plt.title('Confusion Matrix')\n",
    "plt.xlabel('Predicted Label')\n",
    "plt.ylabel('True Label')\n",
    "plt.show()\n",
    "\n",
    "class_report = classification_report(actual_categories, predicted_categories, target_names=list(topic_to_category_mapping.values()))\n",
    "print(class_report)\n"
   ]
  },
  {
   "cell_type": "markdown",
   "id": "0e2c0d59",
   "metadata": {},
   "source": [
    "Now this is alright, but NMF is not intended to be a method for prediction instead it is used for feature extraction in complex data where there are many potential relationships within data and standard methods are not feasible in attempting to capture them all. Ideally, this should be combined with a supervised learning model to evaluate the features. I am going to take a more standard approach. Below, I will still use my processed and cleaned data. However, I will now use NMF to identify many latent features (more then 2) and then predict the labels based on that. "
   ]
  },
  {
   "cell_type": "markdown",
   "id": "c09a6e6a",
   "metadata": {},
   "source": [
    "## NMF with Support Vector Machine as the method of prediction"
   ]
  },
  {
   "cell_type": "code",
   "execution_count": 27,
   "id": "2498574e",
   "metadata": {},
   "outputs": [
    {
     "name": "stderr",
     "output_type": "stream",
     "text": [
      "C:\\Users\\vinins2\\Anaconda3\\lib\\site-packages\\sklearn\\decomposition\\_nmf.py:312: FutureWarning: The 'init' value, when 'init=None' and n_components is less than n_samples and n_features, will be changed from 'nndsvd' to 'nndsvda' in 1.1 (renaming of 0.26).\n",
      "  warnings.warn((\"The 'init' value, when 'init=None' and \"\n"
     ]
    },
    {
     "name": "stdout",
     "output_type": "stream",
     "text": [
      "Accuracy: 0.8666134185303515\n",
      "Classification Report:\n",
      "              precision    recall  f1-score   support\n",
      "\n",
      "         ham       0.81      0.97      0.88       635\n",
      "        spam       0.96      0.76      0.85       617\n",
      "\n",
      "    accuracy                           0.87      1252\n",
      "   macro avg       0.88      0.87      0.86      1252\n",
      "weighted avg       0.88      0.87      0.86      1252\n",
      "\n"
     ]
    },
    {
     "data": {
      "image/png": "[encoded data removed]",
      "text/plain": [
       "<Figure size 576x432 with 2 Axes>"
      ]
     },
     "metadata": {
      "needs_background": "light"
     },
     "output_type": "display_data"
    }
   ],
   "source": [
    "# Step 1: Feature Extraction with NMF\n",
    "tfidf_vectorizer = TfidfVectorizer()\n",
    "tfidf_mat_train = tfidf_vectorizer.fit_transform(train_spam['Stemmed Text'])\n",
    "nmf = NMF(n_components=45, random_state=95)\n",
    "nmf_out_train = nmf.fit_transform(tfidf_mat_train)\n",
    "\n",
    "# Step 2: Train-Test Split\n",
    "X_train, X_test, y_train, y_test = train_test_split(nmf_out_train, train_spam['v1'], test_size=0.2, random_state=42)\n",
    "\n",
    "# Step 3: Model Training\n",
    "svm_model = SVC(kernel='linear', C=1.0)  # Example SVM with linear kernel\n",
    "svm_model.fit(X_train, y_train)\n",
    "\n",
    "# Step 4: Use the trained model to predict on the test set\n",
    "y_pred = svm_model.predict(X_test)\n",
    "\n",
    "# Calculate accuracy metrics\n",
    "accuracy = accuracy_score(y_test, y_pred)\n",
    "classification_rep = classification_report(y_test, y_pred)\n",
    "conf_matrix = confusion_matrix(y_test, y_pred)\n",
    "\n",
    "print(\"Accuracy:\", accuracy)\n",
    "print(\"Classification Report:\")\n",
    "print(classification_rep)\n",
    "\n",
    "# Confusion Matrix\n",
    "plt.figure(figsize=(8, 6))\n",
    "sns.heatmap(conf_matrix, annot=True, cmap='Blues', fmt='g', xticklabels=['ham', 'spam'], yticklabels=['ham', 'spam'])\n",
    "plt.xlabel('Predicted')\n",
    "plt.ylabel('True')\n",
    "plt.title('Confusion Matrix')\n",
    "plt.show()"
   ]
  },
  {
   "cell_type": "code",
   "execution_count": 28,
   "id": "c8015175",
   "metadata": {},
   "outputs": [
    {
     "name": "stdout",
     "output_type": "stream",
     "text": [
      "Test Set Accuracy: 0.9284307288246881\n",
      "Test Set Classification Report:\n",
      "              precision    recall  f1-score   support\n",
      "\n",
      "         ham       0.96      0.96      0.96      1319\n",
      "        spam       0.73      0.75      0.74       204\n",
      "\n",
      "    accuracy                           0.93      1523\n",
      "   macro avg       0.84      0.85      0.85      1523\n",
      "weighted avg       0.93      0.93      0.93      1523\n",
      "\n"
     ]
    },
    {
     "data": {
      "image/png": "[encoded data removed]",
      "text/plain": [
       "<Figure size 576x432 with 2 Axes>"
      ]
     },
     "metadata": {
      "needs_background": "light"
     },
     "output_type": "display_data"
    }
   ],
   "source": [
    "# Step 2: Feature Extraction with NMF on the test set\n",
    "tfidf_mat_test = tfidf_vectorizer.transform(test_spam['Stemmed Text'])\n",
    "nmf_out_test = nmf.transform(tfidf_mat_test)\n",
    "\n",
    "# Step 3: Model Training on the training set\n",
    "svm_model = SVC(kernel='linear', C=1.0)  # Example SVM with linear kernel\n",
    "svm_model.fit(nmf_out_train, train_spam['v1'])\n",
    "\n",
    "# Step 4: Use the trained model to predict on the test set\n",
    "y_pred_test = svm_model.predict(nmf_out_test)\n",
    "\n",
    "# Calculate accuracy metrics on the test set\n",
    "accuracy_test = accuracy_score(test_spam['v1'], y_pred_test)\n",
    "classification_rep_test = classification_report(test_spam['v1'], y_pred_test)\n",
    "conf_matrix_test = confusion_matrix(test_spam['v1'], y_pred_test)\n",
    "\n",
    "print(\"Test Set Accuracy:\", accuracy_test)\n",
    "print(\"Test Set Classification Report:\")\n",
    "print(classification_rep_test)\n",
    "\n",
    "# CF\n",
    "plt.figure(figsize=(8, 6))\n",
    "sns.heatmap(conf_matrix_test, annot=True, cmap='Blues', fmt='g', xticklabels=['ham', 'spam'], yticklabels=['ham', 'spam'])\n",
    "plt.xlabel('Predicted')\n",
    "plt.ylabel('True')\n",
    "plt.title('Confusion Matrix - Test Set')\n",
    "plt.show()"
   ]
  },
  {
   "cell_type": "markdown",
   "id": "ee12fdd3",
   "metadata": {},
   "source": [
    "The above shows the improvement when using a supervised algortihim in conjunction with non-negative matrix factorization. With the use of NMF for pre processing, we can extract an optimal amount of features to explain the data. These features can then be used as an input feature in a supervised learning algorthim, SVM in this case. SVM utilizes a hyper plane that best separates the different classes in the feature space. Something to pay attention here is that the test accuracy is higher then the training accuracy. This could be indicative of a model that is being over fit. The difference is not large (<10%) but is still high enough to warrant further investigation. I completed this investigation as best I could with only small improvements. There are many other reasons this could be occuring but without an additional unseen data set to test theories it is difficult to assess. \n",
    "\n",
    "One measure to take is completing cross validation on the model to observe how it performs against different subsets of the data. This is completed below. "
   ]
  },
  {
   "cell_type": "code",
   "execution_count": 29,
   "id": "0575935d",
   "metadata": {},
   "outputs": [
    {
     "name": "stdout",
     "output_type": "stream",
     "text": [
      "Fold 1 Accuracy: 0.8844621513944223\n",
      "Fold 2 Accuracy: 0.8645418326693227\n",
      "Fold 3 Accuracy: 0.9243027888446215\n",
      "Fold 4 Accuracy: 0.8924302788844621\n",
      "Fold 5 Accuracy: 0.8685258964143426\n",
      "Fold 6 Accuracy: 0.8685258964143426\n",
      "Fold 7 Accuracy: 0.8685258964143426\n",
      "Fold 8 Accuracy: 0.8286852589641435\n",
      "Fold 9 Accuracy: 0.86\n",
      "Fold 10 Accuracy: 0.872\n",
      "Fold 11 Accuracy: 0.864\n",
      "Fold 12 Accuracy: 0.888\n",
      "Fold 13 Accuracy: 0.856\n",
      "Fold 14 Accuracy: 0.888\n",
      "Fold 15 Accuracy: 0.876\n",
      "Fold 16 Accuracy: 0.864\n",
      "Fold 17 Accuracy: 0.832\n",
      "Fold 18 Accuracy: 0.864\n",
      "Fold 19 Accuracy: 0.88\n",
      "Fold 20 Accuracy: 0.828\n",
      "Fold 21 Accuracy: 0.848\n",
      "Fold 22 Accuracy: 0.868\n",
      "Fold 23 Accuracy: 0.908\n",
      "Fold 24 Accuracy: 0.86\n",
      "Fold 25 Accuracy: 0.872\n",
      "Mean Accuracy: 0.8691200000000001\n"
     ]
    }
   ],
   "source": [
    "from sklearn.model_selection import KFold\n",
    "from sklearn.metrics import accuracy_score\n",
    "from sklearn.svm import SVC\n",
    "import warnings\n",
    "warnings.filterwarnings(\"ignore\")\n",
    "\n",
    "# Folds for cross-validation\n",
    "k_folds = 25\n",
    "\n",
    "# Initialize the KFold splitter\n",
    "kf = KFold(n_splits=k_folds, shuffle=True, random_state=95)\n",
    "\n",
    "# empty list to store the accuracies of each fold\n",
    "fold_accuracies = []\n",
    "\n",
    "# Iterate through each fold\n",
    "for fold, (train_index, val_index) in enumerate(kf.split(train_spam['Stemmed Text'], train_spam['v1'])):\n",
    "    # Split the data into training and validation sets for this fold\n",
    "    X_train_fold, X_val_fold = train_spam['Stemmed Text'].iloc[train_index], train_spam['Stemmed Text'].iloc[val_index]\n",
    "    y_train_fold, y_val_fold = train_spam['v1'].iloc[train_index], train_spam['v1'].iloc[val_index]\n",
    "\n",
    "    # Perform feature extraction (TF-IDF) and dimensionality reduction (NMF) on the training data for this fold\n",
    "    tfidf_vectorizer_fold = TfidfVectorizer()\n",
    "    tfidf_mat_train_fold = tfidf_vectorizer_fold.fit_transform(X_train_fold)\n",
    "    nmf_fold = NMF(n_components=45, random_state=95)\n",
    "    nmf_out_train_fold = nmf_fold.fit_transform(tfidf_mat_train_fold)\n",
    "\n",
    "    # Train the SVM model on the transformed training data for this fold\n",
    "    svm_model_fold = SVC(kernel='linear', C=1.0)\n",
    "    svm_model_fold.fit(nmf_out_train_fold, y_train_fold)\n",
    "\n",
    "    # Transform the validation data using the fitted TF-IDF vectorizer and NMF model\n",
    "    tfidf_mat_val_fold = tfidf_vectorizer_fold.transform(X_val_fold)\n",
    "    nmf_out_val_fold = nmf_fold.transform(tfidf_mat_val_fold)\n",
    "\n",
    "    # Predict labels for the validation data\n",
    "    y_pred_val_fold = svm_model_fold.predict(nmf_out_val_fold)\n",
    "\n",
    "    # Calculate accuracy for this fold\n",
    "    fold_accuracy = accuracy_score(y_val_fold, y_pred_val_fold)\n",
    "    fold_accuracies.append(fold_accuracy)\n",
    "\n",
    "    print(f\"Fold {fold + 1} Accuracy: {fold_accuracy}\")\n",
    "\n",
    "# Calculate and print the mean accuracy across all folds\n",
    "mean_accuracy = sum(fold_accuracies) / k_folds\n",
    "print(f\"Mean Accuracy: {mean_accuracy}\")\n"
   ]
  },
  {
   "cell_type": "markdown",
   "id": "586e43fa",
   "metadata": {},
   "source": [
    "The mean accuracy is what we observed with our train accuracy suggesting the model is robust in its implementation. "
   ]
  },
  {
   "cell_type": "markdown",
   "id": "56fd062c",
   "metadata": {},
   "source": [
    "# Conclusion"
   ]
  },
  {
   "cell_type": "markdown",
   "id": "70fcdabc",
   "metadata": {},
   "source": [
    "The above report cleans, pre-processes and models a text message data set with the goal to predict spam text messages. First, Non-Negative Matrix Factorization to train and predict the model. With the use of hyper parameter tuining and grid search, the model achieves a modest accuracy in the high 80%. However, due to the nature of the prediction, NMF is handicapped by only being able to set the number of components to 2 as there are only two labels for prediction. When we combine this with a supervised algorithim, we can then utilize NMF fully training on many components that significantly reduce the dimensionality allowing the model to identfiy many of the relationships that could exist in explaining the data. "
   ]
  },
  {
   "cell_type": "markdown",
   "id": "e300d3c3",
   "metadata": {},
   "source": [
    "## Future Work"
   ]
  },
  {
   "cell_type": "markdown",
   "id": "e506c3f2",
   "metadata": {},
   "source": [
    "While the model performs reasonably well, certain applications might require better metrics before implementation. Future work would include, defining functions for repeat operations, additonal EDA with the support of specialized domain expertise and obtaining more data sets similar in structure to determine effectiveness and robustness in the model beyond cross validation.  "
   ]
  },
  {
   "cell_type": "markdown",
   "id": "60ee1a35",
   "metadata": {},
   "source": [
    "### References\n",
    "\n",
    "Kaggle Data Set\n",
    "https://www.kaggle.com/datasets/thedevastator/sms-spam-collection-a-more-diverse-dataset\n",
    "\n",
    "EDA Methods used:\n",
    "\n",
    "Boot strapping\n",
    "https://users.cs.utah.edu/~riloff/pdfs/ijcai99-textmining-wkshp.pdf\n",
    "https://www.geeksforgeeks.org/bootstrap/\n",
    "\n",
    "Stop Word removal\n",
    "https://towardsdatascience.com/text-pre-processing-stop-words-removal-using-different-libraries-f20bac19929a\n",
    "https://medium.com/@saitejaponugoti/stop-words-in-nlp-5b248dadad47\n",
    "\n",
    "Stemming\n",
    "https://www.geeksforgeeks.org/python-stemming-words-with-nltk/\n",
    "\n",
    "Outlier removal\n",
    "https://towardsdatascience.com/understanding-outliers-in-text-data-with-transformers-cleanlab-and-topic-modeling-db3585415a19\n",
    "\n",
    "Modeling:\n",
    "\n",
    "NMF\n",
    "https://www.geeksforgeeks.org/non-negative-matrix-factorization/\n",
    "\n",
    "SVM\n",
    "https://medium.com/@bedigunjit/simple-guide-to-text-classification-nlp-using-svm-and-naive-bayes-with-python-421db3a72d34\n",
    "https://www.cs.cornell.edu/people/tj/publications/joachims_98a.pdf\n",
    "https://homepage.cs.uri.edu/faculty/hamel/pubs/theses/Thesis-Neelima-Guduru.pdf\n"
   ]
  }
 ],
 "metadata": {
  "kernelspec": {
   "display_name": "Python 3 (ipykernel)",
   "language": "python",
   "name": "python3"
  },
  "language_info": {
   "codemirror_mode": {
    "name": "ipython",
    "version": 3
   },
   "file_extension": ".py",
   "mimetype": "text/x-python",
   "name": "python",
   "nbconvert_exporter": "python",
   "pygments_lexer": "ipython3",
   "version": "3.9.7"
  }
 },
 "nbformat": 4,
 "nbformat_minor": 5
}
